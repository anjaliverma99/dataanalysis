{
 "cells": [
  {
   "cell_type": "code",
   "execution_count": 1,
   "metadata": {},
   "outputs": [],
   "source": [
    "import pandas as pd\n",
    "import numpy as np"
   ]
  },
  {
   "cell_type": "code",
   "execution_count": 2,
   "metadata": {},
   "outputs": [],
   "source": [
    "import matplotlib.pyplot as plt\n",
    "%matplotlib inline\n",
    "import seaborn as sns\n",
    "import math"
   ]
  },
  {
   "cell_type": "markdown",
   "metadata": {},
   "source": [
    "## Collecting Data"
   ]
  },
  {
   "cell_type": "code",
   "execution_count": 3,
   "metadata": {},
   "outputs": [
    {
     "data": {
      "text/html": [
       "<div>\n",
       "<style scoped>\n",
       "    .dataframe tbody tr th:only-of-type {\n",
       "        vertical-align: middle;\n",
       "    }\n",
       "\n",
       "    .dataframe tbody tr th {\n",
       "        vertical-align: top;\n",
       "    }\n",
       "\n",
       "    .dataframe thead th {\n",
       "        text-align: right;\n",
       "    }\n",
       "</style>\n",
       "<table border=\"1\" class=\"dataframe\">\n",
       "  <thead>\n",
       "    <tr style=\"text-align: right;\">\n",
       "      <th></th>\n",
       "      <th>Measurement date</th>\n",
       "      <th>Station code</th>\n",
       "      <th>Item code</th>\n",
       "      <th>Average value</th>\n",
       "      <th>Instrument status</th>\n",
       "    </tr>\n",
       "  </thead>\n",
       "  <tbody>\n",
       "    <tr>\n",
       "      <th>0</th>\n",
       "      <td>2017-01-01 00:00</td>\n",
       "      <td>101</td>\n",
       "      <td>1</td>\n",
       "      <td>0.004</td>\n",
       "      <td>0</td>\n",
       "    </tr>\n",
       "    <tr>\n",
       "      <th>1</th>\n",
       "      <td>2017-01-01 00:00</td>\n",
       "      <td>101</td>\n",
       "      <td>3</td>\n",
       "      <td>0.059</td>\n",
       "      <td>0</td>\n",
       "    </tr>\n",
       "    <tr>\n",
       "      <th>2</th>\n",
       "      <td>2017-01-01 00:00</td>\n",
       "      <td>101</td>\n",
       "      <td>5</td>\n",
       "      <td>1.200</td>\n",
       "      <td>0</td>\n",
       "    </tr>\n",
       "    <tr>\n",
       "      <th>3</th>\n",
       "      <td>2017-01-01 00:00</td>\n",
       "      <td>101</td>\n",
       "      <td>6</td>\n",
       "      <td>0.002</td>\n",
       "      <td>0</td>\n",
       "    </tr>\n",
       "    <tr>\n",
       "      <th>4</th>\n",
       "      <td>2017-01-01 00:00</td>\n",
       "      <td>101</td>\n",
       "      <td>8</td>\n",
       "      <td>73.000</td>\n",
       "      <td>0</td>\n",
       "    </tr>\n",
       "  </tbody>\n",
       "</table>\n",
       "</div>"
      ],
      "text/plain": [
       "   Measurement date  Station code  Item code  Average value  Instrument status\n",
       "0  2017-01-01 00:00           101          1          0.004                  0\n",
       "1  2017-01-01 00:00           101          3          0.059                  0\n",
       "2  2017-01-01 00:00           101          5          1.200                  0\n",
       "3  2017-01-01 00:00           101          6          0.002                  0\n",
       "4  2017-01-01 00:00           101          8         73.000                  0"
      ]
     },
     "execution_count": 3,
     "metadata": {},
     "output_type": "execute_result"
    }
   ],
   "source": [
    "df_meas_info=pd.read_csv(\"Measurement_info.csv\")\n",
    "df_meas_info.head()"
   ]
  },
  {
   "cell_type": "code",
   "execution_count": 4,
   "metadata": {},
   "outputs": [
    {
     "data": {
      "text/html": [
       "<div>\n",
       "<style scoped>\n",
       "    .dataframe tbody tr th:only-of-type {\n",
       "        vertical-align: middle;\n",
       "    }\n",
       "\n",
       "    .dataframe tbody tr th {\n",
       "        vertical-align: top;\n",
       "    }\n",
       "\n",
       "    .dataframe thead th {\n",
       "        text-align: right;\n",
       "    }\n",
       "</style>\n",
       "<table border=\"1\" class=\"dataframe\">\n",
       "  <thead>\n",
       "    <tr style=\"text-align: right;\">\n",
       "      <th></th>\n",
       "      <th>Item code</th>\n",
       "      <th>Item name</th>\n",
       "      <th>Unit of measurement</th>\n",
       "      <th>Good(Blue)</th>\n",
       "      <th>Normal(Green)</th>\n",
       "      <th>Bad(Yellow)</th>\n",
       "      <th>Very bad(Red)</th>\n",
       "    </tr>\n",
       "  </thead>\n",
       "  <tbody>\n",
       "    <tr>\n",
       "      <th>0</th>\n",
       "      <td>1</td>\n",
       "      <td>SO2</td>\n",
       "      <td>ppm</td>\n",
       "      <td>0.02</td>\n",
       "      <td>0.05</td>\n",
       "      <td>0.15</td>\n",
       "      <td>1.0</td>\n",
       "    </tr>\n",
       "    <tr>\n",
       "      <th>1</th>\n",
       "      <td>3</td>\n",
       "      <td>NO2</td>\n",
       "      <td>ppm</td>\n",
       "      <td>0.03</td>\n",
       "      <td>0.06</td>\n",
       "      <td>0.20</td>\n",
       "      <td>2.0</td>\n",
       "    </tr>\n",
       "    <tr>\n",
       "      <th>2</th>\n",
       "      <td>5</td>\n",
       "      <td>CO</td>\n",
       "      <td>ppm</td>\n",
       "      <td>2.00</td>\n",
       "      <td>9.00</td>\n",
       "      <td>15.00</td>\n",
       "      <td>50.0</td>\n",
       "    </tr>\n",
       "    <tr>\n",
       "      <th>3</th>\n",
       "      <td>6</td>\n",
       "      <td>O3</td>\n",
       "      <td>ppm</td>\n",
       "      <td>0.03</td>\n",
       "      <td>0.09</td>\n",
       "      <td>0.15</td>\n",
       "      <td>0.5</td>\n",
       "    </tr>\n",
       "    <tr>\n",
       "      <th>4</th>\n",
       "      <td>8</td>\n",
       "      <td>PM10</td>\n",
       "      <td>Mircrogram/m3</td>\n",
       "      <td>30.00</td>\n",
       "      <td>80.00</td>\n",
       "      <td>150.00</td>\n",
       "      <td>600.0</td>\n",
       "    </tr>\n",
       "    <tr>\n",
       "      <th>5</th>\n",
       "      <td>9</td>\n",
       "      <td>PM2.5</td>\n",
       "      <td>Mircrogram/m3</td>\n",
       "      <td>15.00</td>\n",
       "      <td>35.00</td>\n",
       "      <td>75.00</td>\n",
       "      <td>500.0</td>\n",
       "    </tr>\n",
       "  </tbody>\n",
       "</table>\n",
       "</div>"
      ],
      "text/plain": [
       "   Item code Item name Unit of measurement  Good(Blue)  Normal(Green)  \\\n",
       "0          1       SO2                 ppm        0.02           0.05   \n",
       "1          3       NO2                 ppm        0.03           0.06   \n",
       "2          5        CO                 ppm        2.00           9.00   \n",
       "3          6        O3                 ppm        0.03           0.09   \n",
       "4          8      PM10       Mircrogram/m3       30.00          80.00   \n",
       "5          9     PM2.5       Mircrogram/m3       15.00          35.00   \n",
       "\n",
       "   Bad(Yellow)  Very bad(Red)  \n",
       "0         0.15            1.0  \n",
       "1         0.20            2.0  \n",
       "2        15.00           50.0  \n",
       "3         0.15            0.5  \n",
       "4       150.00          600.0  \n",
       "5        75.00          500.0  "
      ]
     },
     "execution_count": 4,
     "metadata": {},
     "output_type": "execute_result"
    }
   ],
   "source": [
    "df_meas_item=pd.read_csv(\"Measurement_item_info.csv\")\n",
    "df_meas_item"
   ]
  },
  {
   "cell_type": "code",
   "execution_count": 5,
   "metadata": {},
   "outputs": [
    {
     "data": {
      "text/html": [
       "<div>\n",
       "<style scoped>\n",
       "    .dataframe tbody tr th:only-of-type {\n",
       "        vertical-align: middle;\n",
       "    }\n",
       "\n",
       "    .dataframe tbody tr th {\n",
       "        vertical-align: top;\n",
       "    }\n",
       "\n",
       "    .dataframe thead th {\n",
       "        text-align: right;\n",
       "    }\n",
       "</style>\n",
       "<table border=\"1\" class=\"dataframe\">\n",
       "  <thead>\n",
       "    <tr style=\"text-align: right;\">\n",
       "      <th></th>\n",
       "      <th>Station code</th>\n",
       "      <th>Station name(district)</th>\n",
       "      <th>Address</th>\n",
       "      <th>Latitude</th>\n",
       "      <th>Longitude</th>\n",
       "    </tr>\n",
       "  </thead>\n",
       "  <tbody>\n",
       "    <tr>\n",
       "      <th>0</th>\n",
       "      <td>101</td>\n",
       "      <td>Jongno-gu</td>\n",
       "      <td>19, Jong-ro 35ga-gil, Jongno-gu, Seoul, Republ...</td>\n",
       "      <td>37.572016</td>\n",
       "      <td>127.005008</td>\n",
       "    </tr>\n",
       "    <tr>\n",
       "      <th>1</th>\n",
       "      <td>102</td>\n",
       "      <td>Jung-gu</td>\n",
       "      <td>15, Deoksugung-gil, Jung-gu, Seoul, Republic o...</td>\n",
       "      <td>37.564263</td>\n",
       "      <td>126.974676</td>\n",
       "    </tr>\n",
       "    <tr>\n",
       "      <th>2</th>\n",
       "      <td>103</td>\n",
       "      <td>Yongsan-gu</td>\n",
       "      <td>136, Hannam-daero, Yongsan-gu, Seoul, Republic...</td>\n",
       "      <td>37.540033</td>\n",
       "      <td>127.004850</td>\n",
       "    </tr>\n",
       "    <tr>\n",
       "      <th>3</th>\n",
       "      <td>104</td>\n",
       "      <td>Eunpyeong-gu</td>\n",
       "      <td>215, Jinheung-ro, Eunpyeong-gu, Seoul, Republi...</td>\n",
       "      <td>37.609823</td>\n",
       "      <td>126.934848</td>\n",
       "    </tr>\n",
       "    <tr>\n",
       "      <th>4</th>\n",
       "      <td>105</td>\n",
       "      <td>Seodaemun-gu</td>\n",
       "      <td>32, Segeomjeong-ro 4-gil, Seodaemun-gu, Seoul,...</td>\n",
       "      <td>37.593742</td>\n",
       "      <td>126.949679</td>\n",
       "    </tr>\n",
       "  </tbody>\n",
       "</table>\n",
       "</div>"
      ],
      "text/plain": [
       "   Station code Station name(district)  \\\n",
       "0           101              Jongno-gu   \n",
       "1           102                Jung-gu   \n",
       "2           103             Yongsan-gu   \n",
       "3           104           Eunpyeong-gu   \n",
       "4           105           Seodaemun-gu   \n",
       "\n",
       "                                             Address   Latitude   Longitude  \n",
       "0  19, Jong-ro 35ga-gil, Jongno-gu, Seoul, Republ...  37.572016  127.005008  \n",
       "1  15, Deoksugung-gil, Jung-gu, Seoul, Republic o...  37.564263  126.974676  \n",
       "2  136, Hannam-daero, Yongsan-gu, Seoul, Republic...  37.540033  127.004850  \n",
       "3  215, Jinheung-ro, Eunpyeong-gu, Seoul, Republi...  37.609823  126.934848  \n",
       "4  32, Segeomjeong-ro 4-gil, Seodaemun-gu, Seoul,...  37.593742  126.949679  "
      ]
     },
     "execution_count": 5,
     "metadata": {},
     "output_type": "execute_result"
    }
   ],
   "source": [
    "df_meas_station=pd.read_csv(\"Measurement_station_info.csv\")\n",
    "df_meas_station.head()"
   ]
  },
  {
   "cell_type": "code",
   "execution_count": 6,
   "metadata": {},
   "outputs": [
    {
     "data": {
      "text/html": [
       "<div>\n",
       "<style scoped>\n",
       "    .dataframe tbody tr th:only-of-type {\n",
       "        vertical-align: middle;\n",
       "    }\n",
       "\n",
       "    .dataframe tbody tr th {\n",
       "        vertical-align: top;\n",
       "    }\n",
       "\n",
       "    .dataframe thead th {\n",
       "        text-align: right;\n",
       "    }\n",
       "</style>\n",
       "<table border=\"1\" class=\"dataframe\">\n",
       "  <thead>\n",
       "    <tr style=\"text-align: right;\">\n",
       "      <th></th>\n",
       "      <th>Measurement date</th>\n",
       "      <th>Station code</th>\n",
       "      <th>Address</th>\n",
       "      <th>Latitude</th>\n",
       "      <th>Longitude</th>\n",
       "      <th>SO2</th>\n",
       "      <th>NO2</th>\n",
       "      <th>O3</th>\n",
       "      <th>CO</th>\n",
       "      <th>PM10</th>\n",
       "      <th>PM2.5</th>\n",
       "    </tr>\n",
       "  </thead>\n",
       "  <tbody>\n",
       "    <tr>\n",
       "      <th>0</th>\n",
       "      <td>2017-01-01 00:00</td>\n",
       "      <td>101</td>\n",
       "      <td>19, Jong-ro 35ga-gil, Jongno-gu, Seoul, Republ...</td>\n",
       "      <td>37.572016</td>\n",
       "      <td>127.005007</td>\n",
       "      <td>0.004</td>\n",
       "      <td>0.059</td>\n",
       "      <td>0.002</td>\n",
       "      <td>1.2</td>\n",
       "      <td>73.0</td>\n",
       "      <td>57.0</td>\n",
       "    </tr>\n",
       "    <tr>\n",
       "      <th>1</th>\n",
       "      <td>2017-01-01 01:00</td>\n",
       "      <td>101</td>\n",
       "      <td>19, Jong-ro 35ga-gil, Jongno-gu, Seoul, Republ...</td>\n",
       "      <td>37.572016</td>\n",
       "      <td>127.005007</td>\n",
       "      <td>0.004</td>\n",
       "      <td>0.058</td>\n",
       "      <td>0.002</td>\n",
       "      <td>1.2</td>\n",
       "      <td>71.0</td>\n",
       "      <td>59.0</td>\n",
       "    </tr>\n",
       "    <tr>\n",
       "      <th>2</th>\n",
       "      <td>2017-01-01 02:00</td>\n",
       "      <td>101</td>\n",
       "      <td>19, Jong-ro 35ga-gil, Jongno-gu, Seoul, Republ...</td>\n",
       "      <td>37.572016</td>\n",
       "      <td>127.005007</td>\n",
       "      <td>0.004</td>\n",
       "      <td>0.056</td>\n",
       "      <td>0.002</td>\n",
       "      <td>1.2</td>\n",
       "      <td>70.0</td>\n",
       "      <td>59.0</td>\n",
       "    </tr>\n",
       "    <tr>\n",
       "      <th>3</th>\n",
       "      <td>2017-01-01 03:00</td>\n",
       "      <td>101</td>\n",
       "      <td>19, Jong-ro 35ga-gil, Jongno-gu, Seoul, Republ...</td>\n",
       "      <td>37.572016</td>\n",
       "      <td>127.005007</td>\n",
       "      <td>0.004</td>\n",
       "      <td>0.056</td>\n",
       "      <td>0.002</td>\n",
       "      <td>1.2</td>\n",
       "      <td>70.0</td>\n",
       "      <td>58.0</td>\n",
       "    </tr>\n",
       "    <tr>\n",
       "      <th>4</th>\n",
       "      <td>2017-01-01 04:00</td>\n",
       "      <td>101</td>\n",
       "      <td>19, Jong-ro 35ga-gil, Jongno-gu, Seoul, Republ...</td>\n",
       "      <td>37.572016</td>\n",
       "      <td>127.005007</td>\n",
       "      <td>0.003</td>\n",
       "      <td>0.051</td>\n",
       "      <td>0.002</td>\n",
       "      <td>1.2</td>\n",
       "      <td>69.0</td>\n",
       "      <td>61.0</td>\n",
       "    </tr>\n",
       "  </tbody>\n",
       "</table>\n",
       "</div>"
      ],
      "text/plain": [
       "   Measurement date  Station code  \\\n",
       "0  2017-01-01 00:00           101   \n",
       "1  2017-01-01 01:00           101   \n",
       "2  2017-01-01 02:00           101   \n",
       "3  2017-01-01 03:00           101   \n",
       "4  2017-01-01 04:00           101   \n",
       "\n",
       "                                             Address   Latitude   Longitude  \\\n",
       "0  19, Jong-ro 35ga-gil, Jongno-gu, Seoul, Republ...  37.572016  127.005007   \n",
       "1  19, Jong-ro 35ga-gil, Jongno-gu, Seoul, Republ...  37.572016  127.005007   \n",
       "2  19, Jong-ro 35ga-gil, Jongno-gu, Seoul, Republ...  37.572016  127.005007   \n",
       "3  19, Jong-ro 35ga-gil, Jongno-gu, Seoul, Republ...  37.572016  127.005007   \n",
       "4  19, Jong-ro 35ga-gil, Jongno-gu, Seoul, Republ...  37.572016  127.005007   \n",
       "\n",
       "     SO2    NO2     O3   CO  PM10  PM2.5  \n",
       "0  0.004  0.059  0.002  1.2  73.0   57.0  \n",
       "1  0.004  0.058  0.002  1.2  71.0   59.0  \n",
       "2  0.004  0.056  0.002  1.2  70.0   59.0  \n",
       "3  0.004  0.056  0.002  1.2  70.0   58.0  \n",
       "4  0.003  0.051  0.002  1.2  69.0   61.0  "
      ]
     },
     "execution_count": 6,
     "metadata": {},
     "output_type": "execute_result"
    }
   ],
   "source": [
    "df_summary=pd.read_csv(\"Measurement_summary.csv\")\n",
    "df_summary.head()"
   ]
  },
  {
   "cell_type": "markdown",
   "metadata": {},
   "source": [
    "## Missing Data"
   ]
  },
  {
   "cell_type": "code",
   "execution_count": 7,
   "metadata": {},
   "outputs": [
    {
     "data": {
      "text/plain": [
       "Measurement date    0\n",
       "Station code        0\n",
       "Address             0\n",
       "Latitude            0\n",
       "Longitude           0\n",
       "SO2                 0\n",
       "NO2                 0\n",
       "O3                  0\n",
       "CO                  0\n",
       "PM10                0\n",
       "PM2.5               0\n",
       "dtype: int64"
      ]
     },
     "execution_count": 7,
     "metadata": {},
     "output_type": "execute_result"
    }
   ],
   "source": [
    "df_summary.isnull().sum()"
   ]
  },
  {
   "cell_type": "code",
   "execution_count": 8,
   "metadata": {},
   "outputs": [
    {
     "data": {
      "text/plain": [
       "Measurement date     0\n",
       "Station code         0\n",
       "Item code            0\n",
       "Average value        0\n",
       "Instrument status    0\n",
       "dtype: int64"
      ]
     },
     "execution_count": 8,
     "metadata": {},
     "output_type": "execute_result"
    }
   ],
   "source": [
    "df_meas_info.isnull().sum()"
   ]
  },
  {
   "cell_type": "code",
   "execution_count": 9,
   "metadata": {},
   "outputs": [
    {
     "data": {
      "text/plain": [
       "Item code              0\n",
       "Item name              0\n",
       "Unit of measurement    0\n",
       "Good(Blue)             0\n",
       "Normal(Green)          0\n",
       "Bad(Yellow)            0\n",
       "Very bad(Red)          0\n",
       "dtype: int64"
      ]
     },
     "execution_count": 9,
     "metadata": {},
     "output_type": "execute_result"
    }
   ],
   "source": [
    "df_meas_item.isnull().sum()"
   ]
  },
  {
   "cell_type": "code",
   "execution_count": 10,
   "metadata": {},
   "outputs": [
    {
     "data": {
      "text/plain": [
       "Station code              0\n",
       "Station name(district)    0\n",
       "Address                   0\n",
       "Latitude                  0\n",
       "Longitude                 0\n",
       "dtype: int64"
      ]
     },
     "execution_count": 10,
     "metadata": {},
     "output_type": "execute_result"
    }
   ],
   "source": [
    "df_meas_station.isnull().sum()"
   ]
  },
  {
   "cell_type": "markdown",
   "metadata": {},
   "source": [
    "## Data Pre-Processing & Visualization"
   ]
  },
  {
   "cell_type": "code",
   "execution_count": 11,
   "metadata": {},
   "outputs": [
    {
     "data": {
      "text/html": [
       "<div>\n",
       "<style scoped>\n",
       "    .dataframe tbody tr th:only-of-type {\n",
       "        vertical-align: middle;\n",
       "    }\n",
       "\n",
       "    .dataframe tbody tr th {\n",
       "        vertical-align: top;\n",
       "    }\n",
       "\n",
       "    .dataframe thead th {\n",
       "        text-align: right;\n",
       "    }\n",
       "</style>\n",
       "<table border=\"1\" class=\"dataframe\">\n",
       "  <thead>\n",
       "    <tr style=\"text-align: right;\">\n",
       "      <th></th>\n",
       "      <th>0</th>\n",
       "      <th>1</th>\n",
       "    </tr>\n",
       "  </thead>\n",
       "  <tbody>\n",
       "    <tr>\n",
       "      <th>0</th>\n",
       "      <td>2017-01-01</td>\n",
       "      <td>00:00</td>\n",
       "    </tr>\n",
       "    <tr>\n",
       "      <th>1</th>\n",
       "      <td>2017-01-01</td>\n",
       "      <td>01:00</td>\n",
       "    </tr>\n",
       "    <tr>\n",
       "      <th>2</th>\n",
       "      <td>2017-01-01</td>\n",
       "      <td>02:00</td>\n",
       "    </tr>\n",
       "    <tr>\n",
       "      <th>3</th>\n",
       "      <td>2017-01-01</td>\n",
       "      <td>03:00</td>\n",
       "    </tr>\n",
       "    <tr>\n",
       "      <th>4</th>\n",
       "      <td>2017-01-01</td>\n",
       "      <td>04:00</td>\n",
       "    </tr>\n",
       "  </tbody>\n",
       "</table>\n",
       "</div>"
      ],
      "text/plain": [
       "            0      1\n",
       "0  2017-01-01  00:00\n",
       "1  2017-01-01  01:00\n",
       "2  2017-01-01  02:00\n",
       "3  2017-01-01  03:00\n",
       "4  2017-01-01  04:00"
      ]
     },
     "execution_count": 11,
     "metadata": {},
     "output_type": "execute_result"
    }
   ],
   "source": [
    "date_time=df_summary[\"Measurement date\"].str.split(\" \",n=1,expand=True)\n",
    "date_time.head()"
   ]
  },
  {
   "cell_type": "code",
   "execution_count": 12,
   "metadata": {},
   "outputs": [
    {
     "data": {
      "text/html": [
       "<div>\n",
       "<style scoped>\n",
       "    .dataframe tbody tr th:only-of-type {\n",
       "        vertical-align: middle;\n",
       "    }\n",
       "\n",
       "    .dataframe tbody tr th {\n",
       "        vertical-align: top;\n",
       "    }\n",
       "\n",
       "    .dataframe thead th {\n",
       "        text-align: right;\n",
       "    }\n",
       "</style>\n",
       "<table border=\"1\" class=\"dataframe\">\n",
       "  <thead>\n",
       "    <tr style=\"text-align: right;\">\n",
       "      <th></th>\n",
       "      <th>Station code</th>\n",
       "      <th>Address</th>\n",
       "      <th>Latitude</th>\n",
       "      <th>Longitude</th>\n",
       "      <th>SO2</th>\n",
       "      <th>NO2</th>\n",
       "      <th>O3</th>\n",
       "      <th>CO</th>\n",
       "      <th>PM10</th>\n",
       "      <th>PM2.5</th>\n",
       "      <th>date</th>\n",
       "      <th>time</th>\n",
       "    </tr>\n",
       "  </thead>\n",
       "  <tbody>\n",
       "    <tr>\n",
       "      <th>0</th>\n",
       "      <td>101</td>\n",
       "      <td>19, Jong-ro 35ga-gil, Jongno-gu, Seoul, Republ...</td>\n",
       "      <td>37.572016</td>\n",
       "      <td>127.005007</td>\n",
       "      <td>0.004</td>\n",
       "      <td>0.059</td>\n",
       "      <td>0.002</td>\n",
       "      <td>1.2</td>\n",
       "      <td>73.0</td>\n",
       "      <td>57.0</td>\n",
       "      <td>2017-01-01</td>\n",
       "      <td>00:00</td>\n",
       "    </tr>\n",
       "    <tr>\n",
       "      <th>1</th>\n",
       "      <td>101</td>\n",
       "      <td>19, Jong-ro 35ga-gil, Jongno-gu, Seoul, Republ...</td>\n",
       "      <td>37.572016</td>\n",
       "      <td>127.005007</td>\n",
       "      <td>0.004</td>\n",
       "      <td>0.058</td>\n",
       "      <td>0.002</td>\n",
       "      <td>1.2</td>\n",
       "      <td>71.0</td>\n",
       "      <td>59.0</td>\n",
       "      <td>2017-01-01</td>\n",
       "      <td>01:00</td>\n",
       "    </tr>\n",
       "    <tr>\n",
       "      <th>2</th>\n",
       "      <td>101</td>\n",
       "      <td>19, Jong-ro 35ga-gil, Jongno-gu, Seoul, Republ...</td>\n",
       "      <td>37.572016</td>\n",
       "      <td>127.005007</td>\n",
       "      <td>0.004</td>\n",
       "      <td>0.056</td>\n",
       "      <td>0.002</td>\n",
       "      <td>1.2</td>\n",
       "      <td>70.0</td>\n",
       "      <td>59.0</td>\n",
       "      <td>2017-01-01</td>\n",
       "      <td>02:00</td>\n",
       "    </tr>\n",
       "    <tr>\n",
       "      <th>3</th>\n",
       "      <td>101</td>\n",
       "      <td>19, Jong-ro 35ga-gil, Jongno-gu, Seoul, Republ...</td>\n",
       "      <td>37.572016</td>\n",
       "      <td>127.005007</td>\n",
       "      <td>0.004</td>\n",
       "      <td>0.056</td>\n",
       "      <td>0.002</td>\n",
       "      <td>1.2</td>\n",
       "      <td>70.0</td>\n",
       "      <td>58.0</td>\n",
       "      <td>2017-01-01</td>\n",
       "      <td>03:00</td>\n",
       "    </tr>\n",
       "    <tr>\n",
       "      <th>4</th>\n",
       "      <td>101</td>\n",
       "      <td>19, Jong-ro 35ga-gil, Jongno-gu, Seoul, Republ...</td>\n",
       "      <td>37.572016</td>\n",
       "      <td>127.005007</td>\n",
       "      <td>0.003</td>\n",
       "      <td>0.051</td>\n",
       "      <td>0.002</td>\n",
       "      <td>1.2</td>\n",
       "      <td>69.0</td>\n",
       "      <td>61.0</td>\n",
       "      <td>2017-01-01</td>\n",
       "      <td>04:00</td>\n",
       "    </tr>\n",
       "  </tbody>\n",
       "</table>\n",
       "</div>"
      ],
      "text/plain": [
       "   Station code                                            Address   Latitude  \\\n",
       "0           101  19, Jong-ro 35ga-gil, Jongno-gu, Seoul, Republ...  37.572016   \n",
       "1           101  19, Jong-ro 35ga-gil, Jongno-gu, Seoul, Republ...  37.572016   \n",
       "2           101  19, Jong-ro 35ga-gil, Jongno-gu, Seoul, Republ...  37.572016   \n",
       "3           101  19, Jong-ro 35ga-gil, Jongno-gu, Seoul, Republ...  37.572016   \n",
       "4           101  19, Jong-ro 35ga-gil, Jongno-gu, Seoul, Republ...  37.572016   \n",
       "\n",
       "    Longitude    SO2    NO2     O3   CO  PM10  PM2.5        date   time  \n",
       "0  127.005007  0.004  0.059  0.002  1.2  73.0   57.0  2017-01-01  00:00  \n",
       "1  127.005007  0.004  0.058  0.002  1.2  71.0   59.0  2017-01-01  01:00  \n",
       "2  127.005007  0.004  0.056  0.002  1.2  70.0   59.0  2017-01-01  02:00  \n",
       "3  127.005007  0.004  0.056  0.002  1.2  70.0   58.0  2017-01-01  03:00  \n",
       "4  127.005007  0.003  0.051  0.002  1.2  69.0   61.0  2017-01-01  04:00  "
      ]
     },
     "execution_count": 12,
     "metadata": {},
     "output_type": "execute_result"
    }
   ],
   "source": [
    "df_summary[\"date\"]=date_time[0]\n",
    "df_summary[\"time\"]=date_time[1]\n",
    "df_summary=df_summary.drop([\"Measurement date\"],axis=1)\n",
    "df_summary.head()"
   ]
  },
  {
   "cell_type": "code",
   "execution_count": 13,
   "metadata": {},
   "outputs": [],
   "source": [
    "df_seoul=df_summary.groupby(['date'],as_index=False).agg({'SO2':'mean','NO2':'mean','O3':'mean','CO':'mean','PM10':'mean','PM2.5':'mean'})"
   ]
  },
  {
   "cell_type": "code",
   "execution_count": 14,
   "metadata": {},
   "outputs": [
    {
     "data": {
      "text/html": [
       "<div>\n",
       "<style scoped>\n",
       "    .dataframe tbody tr th:only-of-type {\n",
       "        vertical-align: middle;\n",
       "    }\n",
       "\n",
       "    .dataframe tbody tr th {\n",
       "        vertical-align: top;\n",
       "    }\n",
       "\n",
       "    .dataframe thead th {\n",
       "        text-align: right;\n",
       "    }\n",
       "</style>\n",
       "<table border=\"1\" class=\"dataframe\">\n",
       "  <thead>\n",
       "    <tr style=\"text-align: right;\">\n",
       "      <th></th>\n",
       "      <th>date</th>\n",
       "      <th>SO2</th>\n",
       "      <th>NO2</th>\n",
       "      <th>O3</th>\n",
       "      <th>CO</th>\n",
       "      <th>PM10</th>\n",
       "      <th>PM2.5</th>\n",
       "    </tr>\n",
       "  </thead>\n",
       "  <tbody>\n",
       "    <tr>\n",
       "      <th>0</th>\n",
       "      <td>2017-01-01</td>\n",
       "      <td>0.003627</td>\n",
       "      <td>0.044765</td>\n",
       "      <td>0.002478</td>\n",
       "      <td>0.981833</td>\n",
       "      <td>77.201667</td>\n",
       "      <td>56.773333</td>\n",
       "    </tr>\n",
       "    <tr>\n",
       "      <th>1</th>\n",
       "      <td>2017-01-02</td>\n",
       "      <td>0.002707</td>\n",
       "      <td>0.035960</td>\n",
       "      <td>0.013127</td>\n",
       "      <td>0.891333</td>\n",
       "      <td>109.243333</td>\n",
       "      <td>77.838333</td>\n",
       "    </tr>\n",
       "    <tr>\n",
       "      <th>2</th>\n",
       "      <td>2017-01-03</td>\n",
       "      <td>0.000602</td>\n",
       "      <td>0.037017</td>\n",
       "      <td>0.008223</td>\n",
       "      <td>0.753833</td>\n",
       "      <td>78.546667</td>\n",
       "      <td>51.533333</td>\n",
       "    </tr>\n",
       "    <tr>\n",
       "      <th>3</th>\n",
       "      <td>2017-01-04</td>\n",
       "      <td>0.004122</td>\n",
       "      <td>0.048813</td>\n",
       "      <td>0.006918</td>\n",
       "      <td>0.878500</td>\n",
       "      <td>54.966667</td>\n",
       "      <td>34.533333</td>\n",
       "    </tr>\n",
       "    <tr>\n",
       "      <th>4</th>\n",
       "      <td>2017-01-05</td>\n",
       "      <td>0.003122</td>\n",
       "      <td>0.033892</td>\n",
       "      <td>0.009725</td>\n",
       "      <td>0.656333</td>\n",
       "      <td>36.246667</td>\n",
       "      <td>22.168333</td>\n",
       "    </tr>\n",
       "  </tbody>\n",
       "</table>\n",
       "</div>"
      ],
      "text/plain": [
       "         date       SO2       NO2        O3        CO        PM10      PM2.5\n",
       "0  2017-01-01  0.003627  0.044765  0.002478  0.981833   77.201667  56.773333\n",
       "1  2017-01-02  0.002707  0.035960  0.013127  0.891333  109.243333  77.838333\n",
       "2  2017-01-03  0.000602  0.037017  0.008223  0.753833   78.546667  51.533333\n",
       "3  2017-01-04  0.004122  0.048813  0.006918  0.878500   54.966667  34.533333\n",
       "4  2017-01-05  0.003122  0.033892  0.009725  0.656333   36.246667  22.168333"
      ]
     },
     "execution_count": 14,
     "metadata": {},
     "output_type": "execute_result"
    }
   ],
   "source": [
    "df_seoul.head()"
   ]
  },
  {
   "cell_type": "code",
   "execution_count": 15,
   "metadata": {},
   "outputs": [
    {
     "data": {
      "text/plain": [
       "<matplotlib.axes._subplots.AxesSubplot at 0x243d1c3d848>"
      ]
     },
     "execution_count": 15,
     "metadata": {},
     "output_type": "execute_result"
    },
    {
     "data": {
      "image/png": "[encoded data removed]",
      "text/plain": [
       "<Figure size 432x288 with 1 Axes>"
      ]
     },
     "metadata": {
      "needs_background": "light"
     },
     "output_type": "display_data"
    }
   ],
   "source": [
    "df_seoul.plot(x=\"date\")"
   ]
  },
  {
   "cell_type": "code",
   "execution_count": 16,
   "metadata": {},
   "outputs": [],
   "source": [
    "df_seoul['PM10_class'] = -1\n",
    "for (idx,row) in df_seoul.iterrows():\n",
    "    pm10=row[5]\n",
    "    _class=-1\n",
    "    if pm10<0:\n",
    "        continue\n",
    "    elif pm10<30:\n",
    "        _class=0\n",
    "    elif pm10<80:\n",
    "        _class=1\n",
    "    elif pm10<150:\n",
    "        _class=2\n",
    "    else:\n",
    "        _class=3\n",
    "    df_seoul.loc[idx,'PM10_class']=_class"
   ]
  },
  {
   "cell_type": "code",
   "execution_count": 17,
   "metadata": {},
   "outputs": [
    {
     "data": {
      "text/html": [
       "<div>\n",
       "<style scoped>\n",
       "    .dataframe tbody tr th:only-of-type {\n",
       "        vertical-align: middle;\n",
       "    }\n",
       "\n",
       "    .dataframe tbody tr th {\n",
       "        vertical-align: top;\n",
       "    }\n",
       "\n",
       "    .dataframe thead th {\n",
       "        text-align: right;\n",
       "    }\n",
       "</style>\n",
       "<table border=\"1\" class=\"dataframe\">\n",
       "  <thead>\n",
       "    <tr style=\"text-align: right;\">\n",
       "      <th></th>\n",
       "      <th>date</th>\n",
       "      <th>SO2</th>\n",
       "      <th>NO2</th>\n",
       "      <th>O3</th>\n",
       "      <th>CO</th>\n",
       "      <th>PM10</th>\n",
       "      <th>PM2.5</th>\n",
       "      <th>PM10_class</th>\n",
       "    </tr>\n",
       "  </thead>\n",
       "  <tbody>\n",
       "    <tr>\n",
       "      <th>0</th>\n",
       "      <td>2017-01-01</td>\n",
       "      <td>0.003627</td>\n",
       "      <td>0.044765</td>\n",
       "      <td>0.002478</td>\n",
       "      <td>0.981833</td>\n",
       "      <td>77.201667</td>\n",
       "      <td>56.773333</td>\n",
       "      <td>1</td>\n",
       "    </tr>\n",
       "    <tr>\n",
       "      <th>1</th>\n",
       "      <td>2017-01-02</td>\n",
       "      <td>0.002707</td>\n",
       "      <td>0.035960</td>\n",
       "      <td>0.013127</td>\n",
       "      <td>0.891333</td>\n",
       "      <td>109.243333</td>\n",
       "      <td>77.838333</td>\n",
       "      <td>2</td>\n",
       "    </tr>\n",
       "    <tr>\n",
       "      <th>2</th>\n",
       "      <td>2017-01-03</td>\n",
       "      <td>0.000602</td>\n",
       "      <td>0.037017</td>\n",
       "      <td>0.008223</td>\n",
       "      <td>0.753833</td>\n",
       "      <td>78.546667</td>\n",
       "      <td>51.533333</td>\n",
       "      <td>1</td>\n",
       "    </tr>\n",
       "    <tr>\n",
       "      <th>3</th>\n",
       "      <td>2017-01-04</td>\n",
       "      <td>0.004122</td>\n",
       "      <td>0.048813</td>\n",
       "      <td>0.006918</td>\n",
       "      <td>0.878500</td>\n",
       "      <td>54.966667</td>\n",
       "      <td>34.533333</td>\n",
       "      <td>1</td>\n",
       "    </tr>\n",
       "    <tr>\n",
       "      <th>4</th>\n",
       "      <td>2017-01-05</td>\n",
       "      <td>0.003122</td>\n",
       "      <td>0.033892</td>\n",
       "      <td>0.009725</td>\n",
       "      <td>0.656333</td>\n",
       "      <td>36.246667</td>\n",
       "      <td>22.168333</td>\n",
       "      <td>1</td>\n",
       "    </tr>\n",
       "  </tbody>\n",
       "</table>\n",
       "</div>"
      ],
      "text/plain": [
       "         date       SO2       NO2        O3        CO        PM10      PM2.5  \\\n",
       "0  2017-01-01  0.003627  0.044765  0.002478  0.981833   77.201667  56.773333   \n",
       "1  2017-01-02  0.002707  0.035960  0.013127  0.891333  109.243333  77.838333   \n",
       "2  2017-01-03  0.000602  0.037017  0.008223  0.753833   78.546667  51.533333   \n",
       "3  2017-01-04  0.004122  0.048813  0.006918  0.878500   54.966667  34.533333   \n",
       "4  2017-01-05  0.003122  0.033892  0.009725  0.656333   36.246667  22.168333   \n",
       "\n",
       "   PM10_class  \n",
       "0           1  \n",
       "1           2  \n",
       "2           1  \n",
       "3           1  \n",
       "4           1  "
      ]
     },
     "execution_count": 17,
     "metadata": {},
     "output_type": "execute_result"
    }
   ],
   "source": [
    "df_seoul.head()"
   ]
  },
  {
   "cell_type": "code",
   "execution_count": 18,
   "metadata": {},
   "outputs": [
    {
     "data": {
      "text/plain": [
       "<matplotlib.axes._subplots.AxesSubplot at 0x243d1b65a88>"
      ]
     },
     "execution_count": 18,
     "metadata": {},
     "output_type": "execute_result"
    },
    {
     "data": {
      "image/png": "[encoded data removed]",
      "text/plain": [
       "<Figure size 432x288 with 1 Axes>"
      ]
     },
     "metadata": {
      "needs_background": "light"
     },
     "output_type": "display_data"
    }
   ],
   "source": [
    "df_seoul['PM10_class'].value_counts().plot(kind=\"bar\")"
   ]
  },
  {
   "cell_type": "code",
   "execution_count": 19,
   "metadata": {},
   "outputs": [],
   "source": [
    "df_seoul[\"PM2.5_class\"]=-1\n",
    "for (idx,row) in df_seoul.iterrows():\n",
    "    pm=row[6]\n",
    "    _class=-1\n",
    "    if pm< 0:\n",
    "        continue\n",
    "    elif pm<10:\n",
    "        _class=0\n",
    "    elif pm<25:\n",
    "        _class=1\n",
    "    elif pm<80:\n",
    "        _class=2\n",
    "    else:\n",
    "        _class=3\n",
    "    df_seoul.loc[idx,'PM2.5_class']=_class"
   ]
  },
  {
   "cell_type": "code",
   "execution_count": 20,
   "metadata": {},
   "outputs": [
    {
     "data": {
      "text/html": [
       "<div>\n",
       "<style scoped>\n",
       "    .dataframe tbody tr th:only-of-type {\n",
       "        vertical-align: middle;\n",
       "    }\n",
       "\n",
       "    .dataframe tbody tr th {\n",
       "        vertical-align: top;\n",
       "    }\n",
       "\n",
       "    .dataframe thead th {\n",
       "        text-align: right;\n",
       "    }\n",
       "</style>\n",
       "<table border=\"1\" class=\"dataframe\">\n",
       "  <thead>\n",
       "    <tr style=\"text-align: right;\">\n",
       "      <th></th>\n",
       "      <th>date</th>\n",
       "      <th>SO2</th>\n",
       "      <th>NO2</th>\n",
       "      <th>O3</th>\n",
       "      <th>CO</th>\n",
       "      <th>PM10</th>\n",
       "      <th>PM2.5</th>\n",
       "      <th>PM10_class</th>\n",
       "      <th>PM2.5_class</th>\n",
       "    </tr>\n",
       "  </thead>\n",
       "  <tbody>\n",
       "    <tr>\n",
       "      <th>0</th>\n",
       "      <td>2017-01-01</td>\n",
       "      <td>0.003627</td>\n",
       "      <td>0.044765</td>\n",
       "      <td>0.002478</td>\n",
       "      <td>0.981833</td>\n",
       "      <td>77.201667</td>\n",
       "      <td>56.773333</td>\n",
       "      <td>1</td>\n",
       "      <td>2</td>\n",
       "    </tr>\n",
       "    <tr>\n",
       "      <th>1</th>\n",
       "      <td>2017-01-02</td>\n",
       "      <td>0.002707</td>\n",
       "      <td>0.035960</td>\n",
       "      <td>0.013127</td>\n",
       "      <td>0.891333</td>\n",
       "      <td>109.243333</td>\n",
       "      <td>77.838333</td>\n",
       "      <td>2</td>\n",
       "      <td>2</td>\n",
       "    </tr>\n",
       "    <tr>\n",
       "      <th>2</th>\n",
       "      <td>2017-01-03</td>\n",
       "      <td>0.000602</td>\n",
       "      <td>0.037017</td>\n",
       "      <td>0.008223</td>\n",
       "      <td>0.753833</td>\n",
       "      <td>78.546667</td>\n",
       "      <td>51.533333</td>\n",
       "      <td>1</td>\n",
       "      <td>2</td>\n",
       "    </tr>\n",
       "    <tr>\n",
       "      <th>3</th>\n",
       "      <td>2017-01-04</td>\n",
       "      <td>0.004122</td>\n",
       "      <td>0.048813</td>\n",
       "      <td>0.006918</td>\n",
       "      <td>0.878500</td>\n",
       "      <td>54.966667</td>\n",
       "      <td>34.533333</td>\n",
       "      <td>1</td>\n",
       "      <td>2</td>\n",
       "    </tr>\n",
       "    <tr>\n",
       "      <th>4</th>\n",
       "      <td>2017-01-05</td>\n",
       "      <td>0.003122</td>\n",
       "      <td>0.033892</td>\n",
       "      <td>0.009725</td>\n",
       "      <td>0.656333</td>\n",
       "      <td>36.246667</td>\n",
       "      <td>22.168333</td>\n",
       "      <td>1</td>\n",
       "      <td>1</td>\n",
       "    </tr>\n",
       "  </tbody>\n",
       "</table>\n",
       "</div>"
      ],
      "text/plain": [
       "         date       SO2       NO2        O3        CO        PM10      PM2.5  \\\n",
       "0  2017-01-01  0.003627  0.044765  0.002478  0.981833   77.201667  56.773333   \n",
       "1  2017-01-02  0.002707  0.035960  0.013127  0.891333  109.243333  77.838333   \n",
       "2  2017-01-03  0.000602  0.037017  0.008223  0.753833   78.546667  51.533333   \n",
       "3  2017-01-04  0.004122  0.048813  0.006918  0.878500   54.966667  34.533333   \n",
       "4  2017-01-05  0.003122  0.033892  0.009725  0.656333   36.246667  22.168333   \n",
       "\n",
       "   PM10_class  PM2.5_class  \n",
       "0           1            2  \n",
       "1           2            2  \n",
       "2           1            2  \n",
       "3           1            2  \n",
       "4           1            1  "
      ]
     },
     "execution_count": 20,
     "metadata": {},
     "output_type": "execute_result"
    }
   ],
   "source": [
    "df_seoul.head()"
   ]
  },
  {
   "cell_type": "code",
   "execution_count": 21,
   "metadata": {},
   "outputs": [
    {
     "data": {
      "text/plain": [
       "<matplotlib.axes._subplots.AxesSubplot at 0x243d1b0e788>"
      ]
     },
     "execution_count": 21,
     "metadata": {},
     "output_type": "execute_result"
    },
    {
     "data": {
      "image/png": "[encoded data removed]",
      "text/plain": [
       "<Figure size 432x288 with 1 Axes>"
      ]
     },
     "metadata": {
      "needs_background": "light"
     },
     "output_type": "display_data"
    }
   ],
   "source": [
    "df_seoul['PM2.5_class'].value_counts().plot(kind=\"bar\")"
   ]
  },
  {
   "cell_type": "code",
   "execution_count": 22,
   "metadata": {},
   "outputs": [],
   "source": [
    "df_seoul['SO2_class']=-1\n",
    "for (idx,row) in df_seoul.iterrows():\n",
    "    so=row[1]\n",
    "    _class=-1\n",
    "    if so<0:\n",
    "        continue\n",
    "    elif so<0.02:\n",
    "        _class=0\n",
    "    elif so<0.05:\n",
    "        _class=1\n",
    "    elif so<0.15:\n",
    "        _class=2\n",
    "    else:\n",
    "        _class=3\n",
    "    df_seoul.loc[idx,'SO2_class']=_class"
   ]
  },
  {
   "cell_type": "code",
   "execution_count": 23,
   "metadata": {},
   "outputs": [
    {
     "data": {
      "text/html": [
       "<div>\n",
       "<style scoped>\n",
       "    .dataframe tbody tr th:only-of-type {\n",
       "        vertical-align: middle;\n",
       "    }\n",
       "\n",
       "    .dataframe tbody tr th {\n",
       "        vertical-align: top;\n",
       "    }\n",
       "\n",
       "    .dataframe thead th {\n",
       "        text-align: right;\n",
       "    }\n",
       "</style>\n",
       "<table border=\"1\" class=\"dataframe\">\n",
       "  <thead>\n",
       "    <tr style=\"text-align: right;\">\n",
       "      <th></th>\n",
       "      <th>date</th>\n",
       "      <th>SO2</th>\n",
       "      <th>NO2</th>\n",
       "      <th>O3</th>\n",
       "      <th>CO</th>\n",
       "      <th>PM10</th>\n",
       "      <th>PM2.5</th>\n",
       "      <th>PM10_class</th>\n",
       "      <th>PM2.5_class</th>\n",
       "      <th>SO2_class</th>\n",
       "    </tr>\n",
       "  </thead>\n",
       "  <tbody>\n",
       "    <tr>\n",
       "      <th>0</th>\n",
       "      <td>2017-01-01</td>\n",
       "      <td>0.003627</td>\n",
       "      <td>0.044765</td>\n",
       "      <td>0.002478</td>\n",
       "      <td>0.981833</td>\n",
       "      <td>77.201667</td>\n",
       "      <td>56.773333</td>\n",
       "      <td>1</td>\n",
       "      <td>2</td>\n",
       "      <td>0</td>\n",
       "    </tr>\n",
       "    <tr>\n",
       "      <th>1</th>\n",
       "      <td>2017-01-02</td>\n",
       "      <td>0.002707</td>\n",
       "      <td>0.035960</td>\n",
       "      <td>0.013127</td>\n",
       "      <td>0.891333</td>\n",
       "      <td>109.243333</td>\n",
       "      <td>77.838333</td>\n",
       "      <td>2</td>\n",
       "      <td>2</td>\n",
       "      <td>0</td>\n",
       "    </tr>\n",
       "    <tr>\n",
       "      <th>2</th>\n",
       "      <td>2017-01-03</td>\n",
       "      <td>0.000602</td>\n",
       "      <td>0.037017</td>\n",
       "      <td>0.008223</td>\n",
       "      <td>0.753833</td>\n",
       "      <td>78.546667</td>\n",
       "      <td>51.533333</td>\n",
       "      <td>1</td>\n",
       "      <td>2</td>\n",
       "      <td>0</td>\n",
       "    </tr>\n",
       "    <tr>\n",
       "      <th>3</th>\n",
       "      <td>2017-01-04</td>\n",
       "      <td>0.004122</td>\n",
       "      <td>0.048813</td>\n",
       "      <td>0.006918</td>\n",
       "      <td>0.878500</td>\n",
       "      <td>54.966667</td>\n",
       "      <td>34.533333</td>\n",
       "      <td>1</td>\n",
       "      <td>2</td>\n",
       "      <td>0</td>\n",
       "    </tr>\n",
       "    <tr>\n",
       "      <th>4</th>\n",
       "      <td>2017-01-05</td>\n",
       "      <td>0.003122</td>\n",
       "      <td>0.033892</td>\n",
       "      <td>0.009725</td>\n",
       "      <td>0.656333</td>\n",
       "      <td>36.246667</td>\n",
       "      <td>22.168333</td>\n",
       "      <td>1</td>\n",
       "      <td>1</td>\n",
       "      <td>0</td>\n",
       "    </tr>\n",
       "  </tbody>\n",
       "</table>\n",
       "</div>"
      ],
      "text/plain": [
       "         date       SO2       NO2        O3        CO        PM10      PM2.5  \\\n",
       "0  2017-01-01  0.003627  0.044765  0.002478  0.981833   77.201667  56.773333   \n",
       "1  2017-01-02  0.002707  0.035960  0.013127  0.891333  109.243333  77.838333   \n",
       "2  2017-01-03  0.000602  0.037017  0.008223  0.753833   78.546667  51.533333   \n",
       "3  2017-01-04  0.004122  0.048813  0.006918  0.878500   54.966667  34.533333   \n",
       "4  2017-01-05  0.003122  0.033892  0.009725  0.656333   36.246667  22.168333   \n",
       "\n",
       "   PM10_class  PM2.5_class  SO2_class  \n",
       "0           1            2          0  \n",
       "1           2            2          0  \n",
       "2           1            2          0  \n",
       "3           1            2          0  \n",
       "4           1            1          0  "
      ]
     },
     "execution_count": 23,
     "metadata": {},
     "output_type": "execute_result"
    }
   ],
   "source": [
    "df_seoul.head()"
   ]
  },
  {
   "cell_type": "code",
   "execution_count": 24,
   "metadata": {},
   "outputs": [
    {
     "data": {
      "text/plain": [
       "<matplotlib.axes._subplots.AxesSubplot at 0x243d1ae59c8>"
      ]
     },
     "execution_count": 24,
     "metadata": {},
     "output_type": "execute_result"
    },
    {
     "data": {
      "image/png": "[encoded data removed]",
      "text/plain": [
       "<Figure size 432x288 with 1 Axes>"
      ]
     },
     "metadata": {
      "needs_background": "light"
     },
     "output_type": "display_data"
    }
   ],
   "source": [
    "df_seoul['SO2_class'].value_counts().plot(kind=\"bar\")"
   ]
  },
  {
   "cell_type": "code",
   "execution_count": 25,
   "metadata": {},
   "outputs": [],
   "source": [
    "df_seoul['NO2_class']=-1\n",
    "for (idx,row) in df_seoul.iterrows():\n",
    "    no=row[2]\n",
    "    _class=-1\n",
    "    if no<0:\n",
    "        continue\n",
    "    elif no<0.03:\n",
    "        _class=0\n",
    "    elif no<0.06:\n",
    "        _class=1\n",
    "    elif no<0.20:\n",
    "        _class=2\n",
    "    else:\n",
    "        _class=3\n",
    "    df_seoul.loc[idx,'NO2_class']=_class"
   ]
  },
  {
   "cell_type": "code",
   "execution_count": 26,
   "metadata": {},
   "outputs": [
    {
     "data": {
      "text/html": [
       "<div>\n",
       "<style scoped>\n",
       "    .dataframe tbody tr th:only-of-type {\n",
       "        vertical-align: middle;\n",
       "    }\n",
       "\n",
       "    .dataframe tbody tr th {\n",
       "        vertical-align: top;\n",
       "    }\n",
       "\n",
       "    .dataframe thead th {\n",
       "        text-align: right;\n",
       "    }\n",
       "</style>\n",
       "<table border=\"1\" class=\"dataframe\">\n",
       "  <thead>\n",
       "    <tr style=\"text-align: right;\">\n",
       "      <th></th>\n",
       "      <th>date</th>\n",
       "      <th>SO2</th>\n",
       "      <th>NO2</th>\n",
       "      <th>O3</th>\n",
       "      <th>CO</th>\n",
       "      <th>PM10</th>\n",
       "      <th>PM2.5</th>\n",
       "      <th>PM10_class</th>\n",
       "      <th>PM2.5_class</th>\n",
       "      <th>SO2_class</th>\n",
       "      <th>NO2_class</th>\n",
       "    </tr>\n",
       "  </thead>\n",
       "  <tbody>\n",
       "    <tr>\n",
       "      <th>0</th>\n",
       "      <td>2017-01-01</td>\n",
       "      <td>0.003627</td>\n",
       "      <td>0.044765</td>\n",
       "      <td>0.002478</td>\n",
       "      <td>0.981833</td>\n",
       "      <td>77.201667</td>\n",
       "      <td>56.773333</td>\n",
       "      <td>1</td>\n",
       "      <td>2</td>\n",
       "      <td>0</td>\n",
       "      <td>1</td>\n",
       "    </tr>\n",
       "    <tr>\n",
       "      <th>1</th>\n",
       "      <td>2017-01-02</td>\n",
       "      <td>0.002707</td>\n",
       "      <td>0.035960</td>\n",
       "      <td>0.013127</td>\n",
       "      <td>0.891333</td>\n",
       "      <td>109.243333</td>\n",
       "      <td>77.838333</td>\n",
       "      <td>2</td>\n",
       "      <td>2</td>\n",
       "      <td>0</td>\n",
       "      <td>1</td>\n",
       "    </tr>\n",
       "    <tr>\n",
       "      <th>2</th>\n",
       "      <td>2017-01-03</td>\n",
       "      <td>0.000602</td>\n",
       "      <td>0.037017</td>\n",
       "      <td>0.008223</td>\n",
       "      <td>0.753833</td>\n",
       "      <td>78.546667</td>\n",
       "      <td>51.533333</td>\n",
       "      <td>1</td>\n",
       "      <td>2</td>\n",
       "      <td>0</td>\n",
       "      <td>1</td>\n",
       "    </tr>\n",
       "    <tr>\n",
       "      <th>3</th>\n",
       "      <td>2017-01-04</td>\n",
       "      <td>0.004122</td>\n",
       "      <td>0.048813</td>\n",
       "      <td>0.006918</td>\n",
       "      <td>0.878500</td>\n",
       "      <td>54.966667</td>\n",
       "      <td>34.533333</td>\n",
       "      <td>1</td>\n",
       "      <td>2</td>\n",
       "      <td>0</td>\n",
       "      <td>1</td>\n",
       "    </tr>\n",
       "    <tr>\n",
       "      <th>4</th>\n",
       "      <td>2017-01-05</td>\n",
       "      <td>0.003122</td>\n",
       "      <td>0.033892</td>\n",
       "      <td>0.009725</td>\n",
       "      <td>0.656333</td>\n",
       "      <td>36.246667</td>\n",
       "      <td>22.168333</td>\n",
       "      <td>1</td>\n",
       "      <td>1</td>\n",
       "      <td>0</td>\n",
       "      <td>1</td>\n",
       "    </tr>\n",
       "  </tbody>\n",
       "</table>\n",
       "</div>"
      ],
      "text/plain": [
       "         date       SO2       NO2        O3        CO        PM10      PM2.5  \\\n",
       "0  2017-01-01  0.003627  0.044765  0.002478  0.981833   77.201667  56.773333   \n",
       "1  2017-01-02  0.002707  0.035960  0.013127  0.891333  109.243333  77.838333   \n",
       "2  2017-01-03  0.000602  0.037017  0.008223  0.753833   78.546667  51.533333   \n",
       "3  2017-01-04  0.004122  0.048813  0.006918  0.878500   54.966667  34.533333   \n",
       "4  2017-01-05  0.003122  0.033892  0.009725  0.656333   36.246667  22.168333   \n",
       "\n",
       "   PM10_class  PM2.5_class  SO2_class  NO2_class  \n",
       "0           1            2          0          1  \n",
       "1           2            2          0          1  \n",
       "2           1            2          0          1  \n",
       "3           1            2          0          1  \n",
       "4           1            1          0          1  "
      ]
     },
     "execution_count": 26,
     "metadata": {},
     "output_type": "execute_result"
    }
   ],
   "source": [
    "df_seoul.head()"
   ]
  },
  {
   "cell_type": "code",
   "execution_count": 27,
   "metadata": {},
   "outputs": [
    {
     "data": {
      "text/plain": [
       "<matplotlib.axes._subplots.AxesSubplot at 0x243d1a81f08>"
      ]
     },
     "execution_count": 27,
     "metadata": {},
     "output_type": "execute_result"
    },
    {
     "data": {
      "image/png": "[encoded data removed]",
      "text/plain": [
       "<Figure size 432x288 with 1 Axes>"
      ]
     },
     "metadata": {
      "needs_background": "light"
     },
     "output_type": "display_data"
    }
   ],
   "source": [
    "df_seoul['NO2_class'].value_counts().plot(kind=\"bar\")"
   ]
  },
  {
   "cell_type": "code",
   "execution_count": 28,
   "metadata": {},
   "outputs": [],
   "source": [
    "df_seoul['CO_class']=-1\n",
    "for (idx,row) in df_seoul.iterrows():\n",
    "    co=row[3]\n",
    "    _class=-1\n",
    "    if co<0:\n",
    "        continue\n",
    "    elif co<2:\n",
    "        _class=0\n",
    "    elif co<9:\n",
    "        _class=1\n",
    "    elif co<15:\n",
    "        _class=2\n",
    "    else:\n",
    "        _class=3\n",
    "    df_seoul.loc[idx,'CO_class']=_class"
   ]
  },
  {
   "cell_type": "code",
   "execution_count": 29,
   "metadata": {},
   "outputs": [
    {
     "data": {
      "text/html": [
       "<div>\n",
       "<style scoped>\n",
       "    .dataframe tbody tr th:only-of-type {\n",
       "        vertical-align: middle;\n",
       "    }\n",
       "\n",
       "    .dataframe tbody tr th {\n",
       "        vertical-align: top;\n",
       "    }\n",
       "\n",
       "    .dataframe thead th {\n",
       "        text-align: right;\n",
       "    }\n",
       "</style>\n",
       "<table border=\"1\" class=\"dataframe\">\n",
       "  <thead>\n",
       "    <tr style=\"text-align: right;\">\n",
       "      <th></th>\n",
       "      <th>date</th>\n",
       "      <th>SO2</th>\n",
       "      <th>NO2</th>\n",
       "      <th>O3</th>\n",
       "      <th>CO</th>\n",
       "      <th>PM10</th>\n",
       "      <th>PM2.5</th>\n",
       "      <th>PM10_class</th>\n",
       "      <th>PM2.5_class</th>\n",
       "      <th>SO2_class</th>\n",
       "      <th>NO2_class</th>\n",
       "      <th>CO_class</th>\n",
       "    </tr>\n",
       "  </thead>\n",
       "  <tbody>\n",
       "    <tr>\n",
       "      <th>0</th>\n",
       "      <td>2017-01-01</td>\n",
       "      <td>0.003627</td>\n",
       "      <td>0.044765</td>\n",
       "      <td>0.002478</td>\n",
       "      <td>0.981833</td>\n",
       "      <td>77.201667</td>\n",
       "      <td>56.773333</td>\n",
       "      <td>1</td>\n",
       "      <td>2</td>\n",
       "      <td>0</td>\n",
       "      <td>1</td>\n",
       "      <td>0</td>\n",
       "    </tr>\n",
       "    <tr>\n",
       "      <th>1</th>\n",
       "      <td>2017-01-02</td>\n",
       "      <td>0.002707</td>\n",
       "      <td>0.035960</td>\n",
       "      <td>0.013127</td>\n",
       "      <td>0.891333</td>\n",
       "      <td>109.243333</td>\n",
       "      <td>77.838333</td>\n",
       "      <td>2</td>\n",
       "      <td>2</td>\n",
       "      <td>0</td>\n",
       "      <td>1</td>\n",
       "      <td>0</td>\n",
       "    </tr>\n",
       "    <tr>\n",
       "      <th>2</th>\n",
       "      <td>2017-01-03</td>\n",
       "      <td>0.000602</td>\n",
       "      <td>0.037017</td>\n",
       "      <td>0.008223</td>\n",
       "      <td>0.753833</td>\n",
       "      <td>78.546667</td>\n",
       "      <td>51.533333</td>\n",
       "      <td>1</td>\n",
       "      <td>2</td>\n",
       "      <td>0</td>\n",
       "      <td>1</td>\n",
       "      <td>0</td>\n",
       "    </tr>\n",
       "    <tr>\n",
       "      <th>3</th>\n",
       "      <td>2017-01-04</td>\n",
       "      <td>0.004122</td>\n",
       "      <td>0.048813</td>\n",
       "      <td>0.006918</td>\n",
       "      <td>0.878500</td>\n",
       "      <td>54.966667</td>\n",
       "      <td>34.533333</td>\n",
       "      <td>1</td>\n",
       "      <td>2</td>\n",
       "      <td>0</td>\n",
       "      <td>1</td>\n",
       "      <td>0</td>\n",
       "    </tr>\n",
       "    <tr>\n",
       "      <th>4</th>\n",
       "      <td>2017-01-05</td>\n",
       "      <td>0.003122</td>\n",
       "      <td>0.033892</td>\n",
       "      <td>0.009725</td>\n",
       "      <td>0.656333</td>\n",
       "      <td>36.246667</td>\n",
       "      <td>22.168333</td>\n",
       "      <td>1</td>\n",
       "      <td>1</td>\n",
       "      <td>0</td>\n",
       "      <td>1</td>\n",
       "      <td>0</td>\n",
       "    </tr>\n",
       "  </tbody>\n",
       "</table>\n",
       "</div>"
      ],
      "text/plain": [
       "         date       SO2       NO2        O3        CO        PM10      PM2.5  \\\n",
       "0  2017-01-01  0.003627  0.044765  0.002478  0.981833   77.201667  56.773333   \n",
       "1  2017-01-02  0.002707  0.035960  0.013127  0.891333  109.243333  77.838333   \n",
       "2  2017-01-03  0.000602  0.037017  0.008223  0.753833   78.546667  51.533333   \n",
       "3  2017-01-04  0.004122  0.048813  0.006918  0.878500   54.966667  34.533333   \n",
       "4  2017-01-05  0.003122  0.033892  0.009725  0.656333   36.246667  22.168333   \n",
       "\n",
       "   PM10_class  PM2.5_class  SO2_class  NO2_class  CO_class  \n",
       "0           1            2          0          1         0  \n",
       "1           2            2          0          1         0  \n",
       "2           1            2          0          1         0  \n",
       "3           1            2          0          1         0  \n",
       "4           1            1          0          1         0  "
      ]
     },
     "execution_count": 29,
     "metadata": {},
     "output_type": "execute_result"
    }
   ],
   "source": [
    "df_seoul.head()"
   ]
  },
  {
   "cell_type": "code",
   "execution_count": 30,
   "metadata": {},
   "outputs": [
    {
     "data": {
      "text/plain": [
       "<matplotlib.axes._subplots.AxesSubplot at 0x243d1a386c8>"
      ]
     },
     "execution_count": 30,
     "metadata": {},
     "output_type": "execute_result"
    },
    {
     "data": {
      "image/png": "[encoded data removed]",
      "text/plain": [
       "<Figure size 432x288 with 1 Axes>"
      ]
     },
     "metadata": {
      "needs_background": "light"
     },
     "output_type": "display_data"
    }
   ],
   "source": [
    "df_seoul['CO_class'].value_counts().plot(kind=\"bar\")"
   ]
  },
  {
   "cell_type": "code",
   "execution_count": 31,
   "metadata": {},
   "outputs": [],
   "source": [
    "df_seoul['O3_class']=-1\n",
    "for (idx,row) in df_seoul.iterrows():\n",
    "    o=row[4]\n",
    "    _class=-1\n",
    "    if o<0:\n",
    "        continue\n",
    "    elif o<0.03:\n",
    "        _class=0\n",
    "    elif o<0.09:\n",
    "        _class=1\n",
    "    elif o<0.15:\n",
    "        _class=2\n",
    "    else:\n",
    "        _class=3\n",
    "    df_seoul.loc[idx,'O3_class']=_class"
   ]
  },
  {
   "cell_type": "code",
   "execution_count": 32,
   "metadata": {},
   "outputs": [
    {
     "data": {
      "text/html": [
       "<div>\n",
       "<style scoped>\n",
       "    .dataframe tbody tr th:only-of-type {\n",
       "        vertical-align: middle;\n",
       "    }\n",
       "\n",
       "    .dataframe tbody tr th {\n",
       "        vertical-align: top;\n",
       "    }\n",
       "\n",
       "    .dataframe thead th {\n",
       "        text-align: right;\n",
       "    }\n",
       "</style>\n",
       "<table border=\"1\" class=\"dataframe\">\n",
       "  <thead>\n",
       "    <tr style=\"text-align: right;\">\n",
       "      <th></th>\n",
       "      <th>date</th>\n",
       "      <th>SO2</th>\n",
       "      <th>NO2</th>\n",
       "      <th>O3</th>\n",
       "      <th>CO</th>\n",
       "      <th>PM10</th>\n",
       "      <th>PM2.5</th>\n",
       "      <th>PM10_class</th>\n",
       "      <th>PM2.5_class</th>\n",
       "      <th>SO2_class</th>\n",
       "      <th>NO2_class</th>\n",
       "      <th>CO_class</th>\n",
       "      <th>O3_class</th>\n",
       "    </tr>\n",
       "  </thead>\n",
       "  <tbody>\n",
       "    <tr>\n",
       "      <th>0</th>\n",
       "      <td>2017-01-01</td>\n",
       "      <td>0.003627</td>\n",
       "      <td>0.044765</td>\n",
       "      <td>0.002478</td>\n",
       "      <td>0.981833</td>\n",
       "      <td>77.201667</td>\n",
       "      <td>56.773333</td>\n",
       "      <td>1</td>\n",
       "      <td>2</td>\n",
       "      <td>0</td>\n",
       "      <td>1</td>\n",
       "      <td>0</td>\n",
       "      <td>3</td>\n",
       "    </tr>\n",
       "    <tr>\n",
       "      <th>1</th>\n",
       "      <td>2017-01-02</td>\n",
       "      <td>0.002707</td>\n",
       "      <td>0.035960</td>\n",
       "      <td>0.013127</td>\n",
       "      <td>0.891333</td>\n",
       "      <td>109.243333</td>\n",
       "      <td>77.838333</td>\n",
       "      <td>2</td>\n",
       "      <td>2</td>\n",
       "      <td>0</td>\n",
       "      <td>1</td>\n",
       "      <td>0</td>\n",
       "      <td>3</td>\n",
       "    </tr>\n",
       "    <tr>\n",
       "      <th>2</th>\n",
       "      <td>2017-01-03</td>\n",
       "      <td>0.000602</td>\n",
       "      <td>0.037017</td>\n",
       "      <td>0.008223</td>\n",
       "      <td>0.753833</td>\n",
       "      <td>78.546667</td>\n",
       "      <td>51.533333</td>\n",
       "      <td>1</td>\n",
       "      <td>2</td>\n",
       "      <td>0</td>\n",
       "      <td>1</td>\n",
       "      <td>0</td>\n",
       "      <td>3</td>\n",
       "    </tr>\n",
       "    <tr>\n",
       "      <th>3</th>\n",
       "      <td>2017-01-04</td>\n",
       "      <td>0.004122</td>\n",
       "      <td>0.048813</td>\n",
       "      <td>0.006918</td>\n",
       "      <td>0.878500</td>\n",
       "      <td>54.966667</td>\n",
       "      <td>34.533333</td>\n",
       "      <td>1</td>\n",
       "      <td>2</td>\n",
       "      <td>0</td>\n",
       "      <td>1</td>\n",
       "      <td>0</td>\n",
       "      <td>3</td>\n",
       "    </tr>\n",
       "    <tr>\n",
       "      <th>4</th>\n",
       "      <td>2017-01-05</td>\n",
       "      <td>0.003122</td>\n",
       "      <td>0.033892</td>\n",
       "      <td>0.009725</td>\n",
       "      <td>0.656333</td>\n",
       "      <td>36.246667</td>\n",
       "      <td>22.168333</td>\n",
       "      <td>1</td>\n",
       "      <td>1</td>\n",
       "      <td>0</td>\n",
       "      <td>1</td>\n",
       "      <td>0</td>\n",
       "      <td>3</td>\n",
       "    </tr>\n",
       "  </tbody>\n",
       "</table>\n",
       "</div>"
      ],
      "text/plain": [
       "         date       SO2       NO2        O3        CO        PM10      PM2.5  \\\n",
       "0  2017-01-01  0.003627  0.044765  0.002478  0.981833   77.201667  56.773333   \n",
       "1  2017-01-02  0.002707  0.035960  0.013127  0.891333  109.243333  77.838333   \n",
       "2  2017-01-03  0.000602  0.037017  0.008223  0.753833   78.546667  51.533333   \n",
       "3  2017-01-04  0.004122  0.048813  0.006918  0.878500   54.966667  34.533333   \n",
       "4  2017-01-05  0.003122  0.033892  0.009725  0.656333   36.246667  22.168333   \n",
       "\n",
       "   PM10_class  PM2.5_class  SO2_class  NO2_class  CO_class  O3_class  \n",
       "0           1            2          0          1         0         3  \n",
       "1           2            2          0          1         0         3  \n",
       "2           1            2          0          1         0         3  \n",
       "3           1            2          0          1         0         3  \n",
       "4           1            1          0          1         0         3  "
      ]
     },
     "execution_count": 32,
     "metadata": {},
     "output_type": "execute_result"
    }
   ],
   "source": [
    "df_seoul.head()"
   ]
  },
  {
   "cell_type": "code",
   "execution_count": 33,
   "metadata": {},
   "outputs": [
    {
     "data": {
      "text/plain": [
       "<matplotlib.axes._subplots.AxesSubplot at 0x243d19ed188>"
      ]
     },
     "execution_count": 33,
     "metadata": {},
     "output_type": "execute_result"
    },
    {
     "data": {
      "image/png": "[encoded data removed]",
      "text/plain": [
       "<Figure size 432x288 with 1 Axes>"
      ]
     },
     "metadata": {
      "needs_background": "light"
     },
     "output_type": "display_data"
    }
   ],
   "source": [
    "df_seoul['O3_class'].value_counts().plot(kind=\"bar\")"
   ]
  },
  {
   "cell_type": "code",
   "execution_count": 34,
   "metadata": {},
   "outputs": [
    {
     "data": {
      "text/plain": [
       "<matplotlib.axes._subplots.AxesSubplot at 0x243d19b8d88>"
      ]
     },
     "execution_count": 34,
     "metadata": {},
     "output_type": "execute_result"
    },
    {
     "data": {
      "image/png": "[encoded data removed]",
      "text/plain": [
       "<Figure size 432x288 with 1 Axes>"
      ]
     },
     "metadata": {
      "needs_background": "light"
     },
     "output_type": "display_data"
    }
   ],
   "source": [
    "sns.countplot(x='O3_class',data=df_seoul)"
   ]
  },
  {
   "cell_type": "code",
   "execution_count": null,
   "metadata": {},
   "outputs": [],
   "source": []
  },
  {
   "cell_type": "code",
   "execution_count": null,
   "metadata": {},
   "outputs": [],
   "source": []
  }
 ],
 "metadata": {
  "kernelspec": {
   "display_name": "Python 3",
   "language": "python",
   "name": "python3"
  },
  "language_info": {
   "codemirror_mode": {
    "name": "ipython",
    "version": 3
   },
   "file_extension": ".py",
   "mimetype": "text/x-python",
   "name": "python",
   "nbconvert_exporter": "python",
   "pygments_lexer": "ipython3",
   "version": "3.7.6"
  }
 },
 "nbformat": 4,
 "nbformat_minor": 4
}
